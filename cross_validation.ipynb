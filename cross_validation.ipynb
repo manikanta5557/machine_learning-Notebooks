{
  "nbformat": 4,
  "nbformat_minor": 0,
  "metadata": {
    "colab": {
      "name": "cross_validation.ipynb",
      "provenance": [],
      "authorship_tag": "ABX9TyMmeue5nhs2cvAOfjwYuONR",
      "include_colab_link": true
    },
    "kernelspec": {
      "name": "python3",
      "display_name": "Python 3"
    },
    "language_info": {
      "name": "python"
    }
  },
  "cells": [
    {
      "cell_type": "markdown",
      "metadata": {
        "id": "view-in-github",
        "colab_type": "text"
      },
      "source": [
        "<a href=\"https://colab.research.google.com/github/manikanta5557/simple_machine_learning-Notebooks/blob/main/cross_validation.ipynb\" target=\"_parent\"><img src=\"https://colab.research.google.com/assets/colab-badge.svg\" alt=\"Open In Colab\"/></a>"
      ]
    },
    {
      "cell_type": "code",
      "execution_count": 1,
      "metadata": {
        "id": "MXLIk5v21VZT"
      },
      "outputs": [],
      "source": [
        "import numpy as np\n",
        "import pandas as pd\n",
        "import seaborn as sns4\n",
        "import matplotlib.pyplot as plt\n",
        "df=pd.read_csv('Advertising.csv')"
      ]
    },
    {
      "cell_type": "code",
      "source": [
        "X = df.drop('Sales',axis=1)\n",
        "y = df['Sales']"
      ],
      "metadata": {
        "id": "x0hL_m18VeXY"
      },
      "execution_count": 3,
      "outputs": []
    },
    {
      "cell_type": "code",
      "source": [
        "from sklearn.model_selection import train_test_split\n",
        "X_train , X_test,y_train,y_test = train_test_split(X,y,test_size=0.3)\n",
        "from sklearn.linear_model import Ridge\n",
        "model = Ridge(alpha=1)\n",
        "model.fit(X_train,y_train)\n",
        "from sklearn.model_selection import cross_val_score\n",
        "scores = -1 * cross_val_score(model,X_train,y_train,cv=5,scoring='neg_mean_squared_error')\n",
        "np.sqrt(scores.mean())"
      ],
      "metadata": {
        "colab": {
          "base_uri": "https://localhost:8080/"
        },
        "id": "f1nUti0UWyre",
        "outputId": "2f14992e-3d72-4fa2-f601-177068fbd17e"
      },
      "execution_count": 12,
      "outputs": [
        {
          "output_type": "execute_result",
          "data": {
            "text/plain": [
              "1.7762028985926859"
            ]
          },
          "metadata": {},
          "execution_count": 12
        }
      ]
    },
    {
      "cell_type": "code",
      "source": [
        "y_predic = model.predict(X_test)\n",
        "from sklearn.metrics import mean_squared_error\n",
        "error = mean_squared_error(y_predic,y_test)\n",
        "np.sqrt(error)"
      ],
      "metadata": {
        "colab": {
          "base_uri": "https://localhost:8080/"
        },
        "id": "VtVuTfsZYlOp",
        "outputId": "0fc3b2d4-7b98-4f83-ec49-3ef646f209eb"
      },
      "execution_count": 11,
      "outputs": [
        {
          "output_type": "execute_result",
          "data": {
            "text/plain": [
              "1.9724322230699904"
            ]
          },
          "metadata": {},
          "execution_count": 11
        }
      ]
    },
    {
      "cell_type": "code",
      "source": [
        "#we can still see changes in error ,which is enough"
      ],
      "metadata": {
        "id": "tGVkAII0ZMK2"
      },
      "execution_count": null,
      "outputs": []
    }
  ]
}